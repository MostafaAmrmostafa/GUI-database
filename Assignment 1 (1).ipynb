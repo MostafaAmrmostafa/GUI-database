{
 "cells": [
  {
   "cell_type": "markdown",
   "id": "guilty-ivory",
   "metadata": {},
   "source": [
    "# Write the code that execute the following:"
   ]
  },
  {
   "cell_type": "markdown",
   "id": "improving-reader",
   "metadata": {},
   "source": [
    "### Output:  We School"
   ]
  },
  {
   "cell_type": "code",
   "execution_count": null,
   "id": "negative-tourism",
   "metadata": {},
   "outputs": [],
   "source": [
    "print(\"We School\")"
   ]
  },
  {
   "cell_type": "markdown",
   "id": "random-verse",
   "metadata": {},
   "source": [
    "### Declare variable with initial value 6 and print it"
   ]
  },
  {
   "cell_type": "code",
   "execution_count": null,
   "id": "appropriate-martin",
   "metadata": {},
   "outputs": [],
   "source": [
    "x=6\n",
    "print(x)"
   ]
  },
  {
   "cell_type": "markdown",
   "id": "divided-horse",
   "metadata": {},
   "source": [
    "### Declare variable with initial value your name and print it"
   ]
  },
  {
   "cell_type": "code",
   "execution_count": null,
   "id": "attached-lounge",
   "metadata": {},
   "outputs": [],
   "source": [
    "x=\"Mostafa Amr\"\n",
    "print(x)"
   ]
  },
  {
   "cell_type": "markdown",
   "id": "enormous-replica",
   "metadata": {},
   "source": [
    "### Print the following output (WeSchool 2021) by using two variables"
   ]
  },
  {
   "cell_type": "code",
   "execution_count": null,
   "id": "green-pharmacology",
   "metadata": {},
   "outputs": [],
   "source": [
    "x=\"WeSchool\"\n",
    "y=\"2021\"\n",
    "print(x,y)"
   ]
  },
  {
   "cell_type": "markdown",
   "id": "alternate-dairy",
   "metadata": {},
   "source": [
    "### Declare three variables x,y & z with initial values 1,2 & 3 in one line then print them"
   ]
  },
  {
   "cell_type": "code",
   "execution_count": null,
   "id": "objective-begin",
   "metadata": {},
   "outputs": [],
   "source": [
    "x,y,z=1,2,3\n",
    "print(x,y,z)"
   ]
  },
  {
   "cell_type": "markdown",
   "id": "bibliographic-chicken",
   "metadata": {},
   "source": [
    "### Declare variable a with initial value 2.0 and get it's data type by using type function, repeat by another variables with another data types"
   ]
  },
  {
   "cell_type": "code",
   "execution_count": null,
   "id": "incomplete-greenhouse",
   "metadata": {},
   "outputs": [],
   "source": [
    "x=2.0\n",
    "#flout\n",
    "print(float(x))"
   ]
  },
  {
   "cell_type": "code",
   "execution_count": null,
   "id": "developmental-speaker",
   "metadata": {},
   "outputs": [],
   "source": [
    "x=2.0\n",
    "#string\n",
    "print(str(x))"
   ]
  },
  {
   "cell_type": "code",
   "execution_count": null,
   "id": "above-medline",
   "metadata": {},
   "outputs": [],
   "source": [
    "x=2.0\n",
    "#int\n",
    "print(int(x))"
   ]
  },
  {
   "cell_type": "markdown",
   "id": "accomplished-consent",
   "metadata": {},
   "source": [
    "### Declare string variable with value \"I am in we school, grade 1\"  ,then:"
   ]
  },
  {
   "cell_type": "code",
   "execution_count": null,
   "id": "distinguished-testing",
   "metadata": {},
   "outputs": [],
   "source": [
    "???"
   ]
  },
  {
   "cell_type": "markdown",
   "id": "pleasant-cooper",
   "metadata": {},
   "source": [
    "#### 1) get length of it"
   ]
  },
  {
   "cell_type": "code",
   "execution_count": null,
   "id": "fundamental-indianapolis",
   "metadata": {},
   "outputs": [],
   "source": [
    "x.len()"
   ]
  },
  {
   "cell_type": "markdown",
   "id": "chicken-enzyme",
   "metadata": {},
   "source": [
    "#### 2) check if word \"WE\" is in the string or not"
   ]
  },
  {
   "cell_type": "code",
   "execution_count": null,
   "id": "certified-trauma",
   "metadata": {},
   "outputs": [],
   "source": [
    "x=\"we\"\n",
    "print(isinstance(\"WE\",str))\n",
    "print(type(x))"
   ]
  },
  {
   "cell_type": "markdown",
   "id": "accessible-perry",
   "metadata": {},
   "source": [
    "#### 3)Modify string to \"I am in we school,grade 2\" by using replace() method"
   ]
  },
  {
   "cell_type": "code",
   "execution_count": null,
   "id": "electrical-answer",
   "metadata": {},
   "outputs": [],
   "source": [
    "x=\"I am in we school, grade 1\"\n",
    "print(x.replace(\"2\",\"1\"))"
   ]
  },
  {
   "cell_type": "markdown",
   "id": "macro-basketball",
   "metadata": {},
   "source": [
    "#### 4)Modify string to be in uppercase (capital letters)"
   ]
  },
  {
   "cell_type": "code",
   "execution_count": null,
   "id": "subsequent-french",
   "metadata": {},
   "outputs": [],
   "source": [
    "x=mostafa\n",
    "print(x.upper)"
   ]
  },
  {
   "cell_type": "markdown",
   "id": "outstanding-assurance",
   "metadata": {},
   "source": [
    "#### 5) Split string on every white space (  ) "
   ]
  },
  {
   "cell_type": "code",
   "execution_count": null,
   "id": "conscious-stanley",
   "metadata": {},
   "outputs": [],
   "source": [
    "x=\"we school\"\n",
    "print(x.split(\" \"))"
   ]
  },
  {
   "cell_type": "markdown",
   "id": "minute-disney",
   "metadata": {},
   "source": [
    "#### 6) Write the sring by format method with words \"I\" and \"we\" and \"school\" as variables"
   ]
  },
  {
   "cell_type": "code",
   "execution_count": null,
   "id": "intended-smith",
   "metadata": {},
   "outputs": [],
   "source": [
    "x=\"{}'m go to{} {}\"\n",
    "print(x.format(I,We,school))"
   ]
  },
  {
   "cell_type": "markdown",
   "id": "upper-office",
   "metadata": {},
   "source": [
    "### Divide 11 by 2 and get result in float form"
   ]
  },
  {
   "cell_type": "code",
   "execution_count": null,
   "id": "tutorial-exhaust",
   "metadata": {},
   "outputs": [],
   "source": [
    "x=11/2\n",
    "print(float(x))"
   ]
  },
  {
   "cell_type": "markdown",
   "id": "subjective-inflation",
   "metadata": {},
   "source": [
    "### Divide 11 by 2 and get result in integer form"
   ]
  },
  {
   "cell_type": "code",
   "execution_count": null,
   "id": "intensive-documentation",
   "metadata": {},
   "outputs": [],
   "source": [
    "x=11/2\n",
    "print(int(x))"
   ]
  },
  {
   "cell_type": "markdown",
   "id": "material-calvin",
   "metadata": {},
   "source": [
    "### Divide 11 by 2 and get result in string form by using casting"
   ]
  },
  {
   "cell_type": "code",
   "execution_count": null,
   "id": "identical-organization",
   "metadata": {},
   "outputs": [],
   "source": [
    "x=11/2\n",
    "print(str(x))"
   ]
  },
  {
   "cell_type": "markdown",
   "id": "liberal-blink",
   "metadata": {},
   "source": [
    "### Get the reminder when you divide 11 by 2"
   ]
  },
  {
   "cell_type": "code",
   "execution_count": null,
   "id": "pediatric-values",
   "metadata": {},
   "outputs": [],
   "source": [
    "???"
   ]
  },
  {
   "cell_type": "markdown",
   "id": "parallel-purchase",
   "metadata": {},
   "source": [
    "### Make user enter his age as input, then add 5 to his age. (make the required to prevent error ocuured)"
   ]
  },
  {
   "cell_type": "code",
   "execution_count": null,
   "id": "similar-dress",
   "metadata": {},
   "outputs": [],
   "source": [
    "x=int(input(\"your age: \"))\n",
    "print(x+5)"
   ]
  },
  {
   "cell_type": "markdown",
   "id": "sophisticated-ecuador",
   "metadata": {},
   "source": [
    "### Declare variable with boolean value, then print it's type by using type function"
   ]
  },
  {
   "cell_type": "code",
   "execution_count": null,
   "id": "creative-hometown",
   "metadata": {},
   "outputs": [],
   "source": [
    "???"
   ]
  },
  {
   "cell_type": "markdown",
   "id": "reflected-annotation",
   "metadata": {},
   "source": [
    "### Declare this list in variable ['tennis','swimmig','pingpong','handball','volley']"
   ]
  },
  {
   "cell_type": "code",
   "execution_count": null,
   "id": "independent-hawaiian",
   "metadata": {},
   "outputs": [],
   "source": [
    "x=['tennis','swimmig','pingpong','handball','volley']\n",
    "print(x)"
   ]
  },
  {
   "cell_type": "markdown",
   "id": "african-casino",
   "metadata": {},
   "source": [
    "### 1) access item \"pingpong\" from the list "
   ]
  },
  {
   "cell_type": "code",
   "execution_count": null,
   "id": "young-throw",
   "metadata": {},
   "outputs": [],
   "source": [
    "x=['tennis','swimmig','pingpong','handball','volley']\n",
    "print(x[2])"
   ]
  },
  {
   "cell_type": "markdown",
   "id": "helpful-packaging",
   "metadata": {},
   "source": [
    "### 2) access items from swimming to handball in list by using range index"
   ]
  },
  {
   "cell_type": "code",
   "execution_count": null,
   "id": "accomplished-photographer",
   "metadata": {},
   "outputs": [],
   "source": [
    "x=['tennis','swimmig','pingpong','handball','volley']\n",
    "print(x[1:4])"
   ]
  },
  {
   "cell_type": "markdown",
   "id": "indoor-sharing",
   "metadata": {},
   "source": [
    "### 3) Modify list to be ['tennis','swimming','pingpong','football','volley'] without declaring new list"
   ]
  },
  {
   "cell_type": "code",
   "execution_count": null,
   "id": "palestinian-parts",
   "metadata": {},
   "outputs": [],
   "source": [
    "x=['tennis','swimmig','pingpong','handball','volley']\n",
    "x[3]=\"football\"\n",
    "print(x)"
   ]
  },
  {
   "cell_type": "markdown",
   "id": "desperate-brass",
   "metadata": {},
   "source": [
    "### 4) add item 'squash' at order number 3 in list"
   ]
  },
  {
   "cell_type": "code",
   "execution_count": null,
   "id": "confirmed-exception",
   "metadata": {},
   "outputs": [],
   "source": [
    "x=['tennis','swimmig','pingpong','handball','volley']\n",
    "x.insert(3,\"squash\")\n",
    "print(x)"
   ]
  },
  {
   "cell_type": "markdown",
   "id": "broad-calvin",
   "metadata": {},
   "source": [
    "### 5) add item 'karatee' at the end of the list"
   ]
  },
  {
   "cell_type": "code",
   "execution_count": null,
   "id": "floating-indianapolis",
   "metadata": {},
   "outputs": [],
   "source": [
    "x=['tennis','swimmig','pingpong','handball','volley']\n",
    "x.append(\"karatee\")\n",
    "print(x)"
   ]
  },
  {
   "cell_type": "markdown",
   "id": "frozen-third",
   "metadata": {},
   "source": [
    "### 6) remove 'tennis' from list "
   ]
  },
  {
   "cell_type": "code",
   "execution_count": null,
   "id": "personalized-rebate",
   "metadata": {},
   "outputs": [],
   "source": [
    "x=['tennis','swimmig','pingpong','handball','volley']\n",
    "x.remove(\"tennis\")\n",
    "print(x)"
   ]
  },
  {
   "cell_type": "markdown",
   "id": "helpful-wealth",
   "metadata": {},
   "source": [
    "### 7) Sort this list in both ascending and descending orders"
   ]
  },
  {
   "cell_type": "code",
   "execution_count": null,
   "id": "robust-reform",
   "metadata": {},
   "outputs": [],
   "source": [
    "x=[3,5,8,4,7,6,9,1]\n",
    "x.sort()\n",
    "print(x)"
   ]
  },
  {
   "cell_type": "markdown",
   "id": "adjacent-angle",
   "metadata": {},
   "source": [
    "### 8)Declare new list ['running','walking'] then merge it with the main previous list"
   ]
  },
  {
   "cell_type": "code",
   "execution_count": null,
   "id": "verbal-publicity",
   "metadata": {},
   "outputs": [],
   "source": []
  }
 ],
 "metadata": {
  "kernelspec": {
   "display_name": "Python 3",
   "language": "python",
   "name": "python3"
  },
  "language_info": {
   "codemirror_mode": {
    "name": "ipython",
    "version": 3
   },
   "file_extension": ".py",
   "mimetype": "text/x-python",
   "name": "python",
   "nbconvert_exporter": "python",
   "pygments_lexer": "ipython3",
   "version": "3.7.8"
  }
 },
 "nbformat": 4,
 "nbformat_minor": 5
}
